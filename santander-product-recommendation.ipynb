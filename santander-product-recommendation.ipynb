{
 "cells": [
  {
   "cell_type": "code",
   "execution_count": 3,
   "id": "3e1c0353",
   "metadata": {},
   "outputs": [],
   "source": [
    "import numpy as numpy\n",
    "import pandas as pd"
   ]
  },
  {
   "cell_type": "code",
   "execution_count": 4,
   "id": "f339dd56",
   "metadata": {},
   "outputs": [
    {
     "name": "stderr",
     "output_type": "stream",
     "text": [
      "/var/folders/jl/5_rcdjz121v7rnhqrmsz6df80000gn/T/ipykernel_35415/1192977624.py:1: DtypeWarning: Columns (5,8,11,15) have mixed types. Specify dtype option on import or set low_memory=False.\n",
      "  df_train = pd.read_csv('data/train_ver2.csv')\n"
     ]
    }
   ],
   "source": [
    "df_train = pd.read_csv('data/train_ver2.csv')"
   ]
  },
  {
   "cell_type": "code",
   "execution_count": 5,
   "id": "f023afe9",
   "metadata": {},
   "outputs": [
    {
     "data": {
      "text/html": [
       "<div>\n",
       "<style scoped>\n",
       "    .dataframe tbody tr th:only-of-type {\n",
       "        vertical-align: middle;\n",
       "    }\n",
       "\n",
       "    .dataframe tbody tr th {\n",
       "        vertical-align: top;\n",
       "    }\n",
       "\n",
       "    .dataframe thead th {\n",
       "        text-align: right;\n",
       "    }\n",
       "</style>\n",
       "<table border=\"1\" class=\"dataframe\">\n",
       "  <thead>\n",
       "    <tr style=\"text-align: right;\">\n",
       "      <th></th>\n",
       "      <th>fecha_dato</th>\n",
       "      <th>ncodpers</th>\n",
       "      <th>ind_empleado</th>\n",
       "      <th>pais_residencia</th>\n",
       "      <th>sexo</th>\n",
       "      <th>age</th>\n",
       "      <th>fecha_alta</th>\n",
       "      <th>ind_nuevo</th>\n",
       "      <th>antiguedad</th>\n",
       "      <th>indrel</th>\n",
       "      <th>...</th>\n",
       "      <th>ind_hip_fin_ult1</th>\n",
       "      <th>ind_plan_fin_ult1</th>\n",
       "      <th>ind_pres_fin_ult1</th>\n",
       "      <th>ind_reca_fin_ult1</th>\n",
       "      <th>ind_tjcr_fin_ult1</th>\n",
       "      <th>ind_valo_fin_ult1</th>\n",
       "      <th>ind_viv_fin_ult1</th>\n",
       "      <th>ind_nomina_ult1</th>\n",
       "      <th>ind_nom_pens_ult1</th>\n",
       "      <th>ind_recibo_ult1</th>\n",
       "    </tr>\n",
       "  </thead>\n",
       "  <tbody>\n",
       "    <tr>\n",
       "      <th>0</th>\n",
       "      <td>2015-01-28</td>\n",
       "      <td>1375586</td>\n",
       "      <td>N</td>\n",
       "      <td>ES</td>\n",
       "      <td>H</td>\n",
       "      <td>35</td>\n",
       "      <td>2015-01-12</td>\n",
       "      <td>0.0</td>\n",
       "      <td>6</td>\n",
       "      <td>1.0</td>\n",
       "      <td>...</td>\n",
       "      <td>0</td>\n",
       "      <td>0</td>\n",
       "      <td>0</td>\n",
       "      <td>0</td>\n",
       "      <td>0</td>\n",
       "      <td>0</td>\n",
       "      <td>0</td>\n",
       "      <td>0.0</td>\n",
       "      <td>0.0</td>\n",
       "      <td>0</td>\n",
       "    </tr>\n",
       "    <tr>\n",
       "      <th>1</th>\n",
       "      <td>2015-01-28</td>\n",
       "      <td>1050611</td>\n",
       "      <td>N</td>\n",
       "      <td>ES</td>\n",
       "      <td>V</td>\n",
       "      <td>23</td>\n",
       "      <td>2012-08-10</td>\n",
       "      <td>0.0</td>\n",
       "      <td>35</td>\n",
       "      <td>1.0</td>\n",
       "      <td>...</td>\n",
       "      <td>0</td>\n",
       "      <td>0</td>\n",
       "      <td>0</td>\n",
       "      <td>0</td>\n",
       "      <td>0</td>\n",
       "      <td>0</td>\n",
       "      <td>0</td>\n",
       "      <td>0.0</td>\n",
       "      <td>0.0</td>\n",
       "      <td>0</td>\n",
       "    </tr>\n",
       "    <tr>\n",
       "      <th>2</th>\n",
       "      <td>2015-01-28</td>\n",
       "      <td>1050612</td>\n",
       "      <td>N</td>\n",
       "      <td>ES</td>\n",
       "      <td>V</td>\n",
       "      <td>23</td>\n",
       "      <td>2012-08-10</td>\n",
       "      <td>0.0</td>\n",
       "      <td>35</td>\n",
       "      <td>1.0</td>\n",
       "      <td>...</td>\n",
       "      <td>0</td>\n",
       "      <td>0</td>\n",
       "      <td>0</td>\n",
       "      <td>0</td>\n",
       "      <td>0</td>\n",
       "      <td>0</td>\n",
       "      <td>0</td>\n",
       "      <td>0.0</td>\n",
       "      <td>0.0</td>\n",
       "      <td>0</td>\n",
       "    </tr>\n",
       "    <tr>\n",
       "      <th>3</th>\n",
       "      <td>2015-01-28</td>\n",
       "      <td>1050613</td>\n",
       "      <td>N</td>\n",
       "      <td>ES</td>\n",
       "      <td>H</td>\n",
       "      <td>22</td>\n",
       "      <td>2012-08-10</td>\n",
       "      <td>0.0</td>\n",
       "      <td>35</td>\n",
       "      <td>1.0</td>\n",
       "      <td>...</td>\n",
       "      <td>0</td>\n",
       "      <td>0</td>\n",
       "      <td>0</td>\n",
       "      <td>0</td>\n",
       "      <td>0</td>\n",
       "      <td>0</td>\n",
       "      <td>0</td>\n",
       "      <td>0.0</td>\n",
       "      <td>0.0</td>\n",
       "      <td>0</td>\n",
       "    </tr>\n",
       "    <tr>\n",
       "      <th>4</th>\n",
       "      <td>2015-01-28</td>\n",
       "      <td>1050614</td>\n",
       "      <td>N</td>\n",
       "      <td>ES</td>\n",
       "      <td>V</td>\n",
       "      <td>23</td>\n",
       "      <td>2012-08-10</td>\n",
       "      <td>0.0</td>\n",
       "      <td>35</td>\n",
       "      <td>1.0</td>\n",
       "      <td>...</td>\n",
       "      <td>0</td>\n",
       "      <td>0</td>\n",
       "      <td>0</td>\n",
       "      <td>0</td>\n",
       "      <td>0</td>\n",
       "      <td>0</td>\n",
       "      <td>0</td>\n",
       "      <td>0.0</td>\n",
       "      <td>0.0</td>\n",
       "      <td>0</td>\n",
       "    </tr>\n",
       "  </tbody>\n",
       "</table>\n",
       "<p>5 rows × 48 columns</p>\n",
       "</div>"
      ],
      "text/plain": [
       "   fecha_dato  ncodpers ind_empleado pais_residencia sexo  age  fecha_alta  \\\n",
       "0  2015-01-28   1375586            N              ES    H   35  2015-01-12   \n",
       "1  2015-01-28   1050611            N              ES    V   23  2012-08-10   \n",
       "2  2015-01-28   1050612            N              ES    V   23  2012-08-10   \n",
       "3  2015-01-28   1050613            N              ES    H   22  2012-08-10   \n",
       "4  2015-01-28   1050614            N              ES    V   23  2012-08-10   \n",
       "\n",
       "   ind_nuevo antiguedad  indrel  ... ind_hip_fin_ult1 ind_plan_fin_ult1  \\\n",
       "0        0.0          6     1.0  ...                0                 0   \n",
       "1        0.0         35     1.0  ...                0                 0   \n",
       "2        0.0         35     1.0  ...                0                 0   \n",
       "3        0.0         35     1.0  ...                0                 0   \n",
       "4        0.0         35     1.0  ...                0                 0   \n",
       "\n",
       "  ind_pres_fin_ult1 ind_reca_fin_ult1 ind_tjcr_fin_ult1 ind_valo_fin_ult1  \\\n",
       "0                 0                 0                 0                 0   \n",
       "1                 0                 0                 0                 0   \n",
       "2                 0                 0                 0                 0   \n",
       "3                 0                 0                 0                 0   \n",
       "4                 0                 0                 0                 0   \n",
       "\n",
       "  ind_viv_fin_ult1 ind_nomina_ult1  ind_nom_pens_ult1  ind_recibo_ult1  \n",
       "0                0             0.0                0.0                0  \n",
       "1                0             0.0                0.0                0  \n",
       "2                0             0.0                0.0                0  \n",
       "3                0             0.0                0.0                0  \n",
       "4                0             0.0                0.0                0  \n",
       "\n",
       "[5 rows x 48 columns]"
      ]
     },
     "execution_count": 5,
     "metadata": {},
     "output_type": "execute_result"
    }
   ],
   "source": [
    "df_train.head()"
   ]
  },
  {
   "cell_type": "markdown",
   "id": "9a1cdcde",
   "metadata": {},
   "source": [
    "### Data Overview"
   ]
  },
  {
   "cell_type": "code",
   "execution_count": 6,
   "id": "878e15ff",
   "metadata": {},
   "outputs": [
    {
     "data": {
      "text/plain": [
       "(13647309, 48)"
      ]
     },
     "execution_count": 6,
     "metadata": {},
     "output_type": "execute_result"
    }
   ],
   "source": [
    "df_train.shape"
   ]
  },
  {
   "cell_type": "code",
   "execution_count": 7,
   "id": "281eb870",
   "metadata": {},
   "outputs": [
    {
     "name": "stdout",
     "output_type": "stream",
     "text": [
      "<class 'pandas.core.frame.DataFrame'>\n",
      "RangeIndex: 13647309 entries, 0 to 13647308\n",
      "Data columns (total 48 columns):\n",
      " #   Column                 Dtype  \n",
      "---  ------                 -----  \n",
      " 0   fecha_dato             object \n",
      " 1   ncodpers               int64  \n",
      " 2   ind_empleado           object \n",
      " 3   pais_residencia        object \n",
      " 4   sexo                   object \n",
      " 5   age                    object \n",
      " 6   fecha_alta             object \n",
      " 7   ind_nuevo              float64\n",
      " 8   antiguedad             object \n",
      " 9   indrel                 float64\n",
      " 10  ult_fec_cli_1t         object \n",
      " 11  indrel_1mes            object \n",
      " 12  tiprel_1mes            object \n",
      " 13  indresi                object \n",
      " 14  indext                 object \n",
      " 15  conyuemp               object \n",
      " 16  canal_entrada          object \n",
      " 17  indfall                object \n",
      " 18  tipodom                float64\n",
      " 19  cod_prov               float64\n",
      " 20  nomprov                object \n",
      " 21  ind_actividad_cliente  float64\n",
      " 22  renta                  float64\n",
      " 23  segmento               object \n",
      " 24  ind_ahor_fin_ult1      int64  \n",
      " 25  ind_aval_fin_ult1      int64  \n",
      " 26  ind_cco_fin_ult1       int64  \n",
      " 27  ind_cder_fin_ult1      int64  \n",
      " 28  ind_cno_fin_ult1       int64  \n",
      " 29  ind_ctju_fin_ult1      int64  \n",
      " 30  ind_ctma_fin_ult1      int64  \n",
      " 31  ind_ctop_fin_ult1      int64  \n",
      " 32  ind_ctpp_fin_ult1      int64  \n",
      " 33  ind_deco_fin_ult1      int64  \n",
      " 34  ind_deme_fin_ult1      int64  \n",
      " 35  ind_dela_fin_ult1      int64  \n",
      " 36  ind_ecue_fin_ult1      int64  \n",
      " 37  ind_fond_fin_ult1      int64  \n",
      " 38  ind_hip_fin_ult1       int64  \n",
      " 39  ind_plan_fin_ult1      int64  \n",
      " 40  ind_pres_fin_ult1      int64  \n",
      " 41  ind_reca_fin_ult1      int64  \n",
      " 42  ind_tjcr_fin_ult1      int64  \n",
      " 43  ind_valo_fin_ult1      int64  \n",
      " 44  ind_viv_fin_ult1       int64  \n",
      " 45  ind_nomina_ult1        float64\n",
      " 46  ind_nom_pens_ult1      float64\n",
      " 47  ind_recibo_ult1        int64  \n",
      "dtypes: float64(8), int64(23), object(17)\n",
      "memory usage: 4.9+ GB\n"
     ]
    }
   ],
   "source": [
    "df_train.info()"
   ]
  },
  {
   "cell_type": "code",
   "execution_count": 8,
   "id": "1aa98915",
   "metadata": {},
   "outputs": [
    {
     "data": {
      "text/plain": [
       "fecha_dato                0.000000\n",
       "ncodpers                  0.000000\n",
       "ind_empleado              0.203220\n",
       "pais_residencia           0.203220\n",
       "sexo                      0.203732\n",
       "age                       0.000000\n",
       "fecha_alta                0.203220\n",
       "ind_nuevo                 0.203220\n",
       "antiguedad                0.000000\n",
       "indrel                    0.203220\n",
       "ult_fec_cli_1t           99.818330\n",
       "indrel_1mes               1.097513\n",
       "tiprel_1mes               1.097513\n",
       "indresi                   0.203220\n",
       "indext                    0.203220\n",
       "conyuemp                 99.986752\n",
       "canal_entrada             1.363829\n",
       "indfall                   0.203220\n",
       "tipodom                   0.203227\n",
       "cod_prov                  0.685784\n",
       "nomprov                   0.685784\n",
       "ind_actividad_cliente     0.203220\n",
       "renta                    20.475648\n",
       "segmento                  1.387585\n",
       "ind_ahor_fin_ult1         0.000000\n",
       "ind_aval_fin_ult1         0.000000\n",
       "ind_cco_fin_ult1          0.000000\n",
       "ind_cder_fin_ult1         0.000000\n",
       "ind_cno_fin_ult1          0.000000\n",
       "ind_ctju_fin_ult1         0.000000\n",
       "ind_ctma_fin_ult1         0.000000\n",
       "ind_ctop_fin_ult1         0.000000\n",
       "ind_ctpp_fin_ult1         0.000000\n",
       "ind_deco_fin_ult1         0.000000\n",
       "ind_deme_fin_ult1         0.000000\n",
       "ind_dela_fin_ult1         0.000000\n",
       "ind_ecue_fin_ult1         0.000000\n",
       "ind_fond_fin_ult1         0.000000\n",
       "ind_hip_fin_ult1          0.000000\n",
       "ind_plan_fin_ult1         0.000000\n",
       "ind_pres_fin_ult1         0.000000\n",
       "ind_reca_fin_ult1         0.000000\n",
       "ind_tjcr_fin_ult1         0.000000\n",
       "ind_valo_fin_ult1         0.000000\n",
       "ind_viv_fin_ult1          0.000000\n",
       "ind_nomina_ult1           0.117701\n",
       "ind_nom_pens_ult1         0.117701\n",
       "ind_recibo_ult1           0.000000\n",
       "dtype: float64"
      ]
     },
     "execution_count": 8,
     "metadata": {},
     "output_type": "execute_result"
    }
   ],
   "source": [
    "missing_value_percentage = df_train.isnull().sum()/len(df_train) * 100\n",
    "missing_value_percentage"
   ]
  },
  {
   "cell_type": "code",
   "execution_count": 9,
   "id": "1c5bba5c",
   "metadata": {},
   "outputs": [
    {
     "data": {
      "text/plain": [
       "956645"
      ]
     },
     "execution_count": 9,
     "metadata": {},
     "output_type": "execute_result"
    }
   ],
   "source": [
    "df_train['ncodpers'].nunique()"
   ]
  },
  {
   "cell_type": "markdown",
   "id": "201d4f94",
   "metadata": {},
   "source": [
    "## Customer Demographics & Behavior Analysis"
   ]
  },
  {
   "cell_type": "markdown",
   "id": "68b74b82",
   "metadata": {},
   "source": [
    "### **Customer Segmentation**"
   ]
  },
  {
   "cell_type": "code",
   "execution_count": 8,
   "id": "48ce29f9",
   "metadata": {},
   "outputs": [],
   "source": [
    "import matplotlib.pyplot as plt\n",
    "import seaborn as sns\n",
    "sns.set()"
   ]
  },
  {
   "cell_type": "code",
   "execution_count": 11,
   "id": "08c27f19",
   "metadata": {},
   "outputs": [
    {
     "data": {
      "image/png": "[encoded data removed]",
      "text/plain": [
       "<Figure size 1500x600 with 2 Axes>"
      ]
     },
     "metadata": {},
     "output_type": "display_data"
    }
   ],
   "source": [
    "fig, ax = plt.subplots(1,2,figsize=(15,6))\n",
    "\n",
    "palette = sns.color_palette(\"cool\", n_colors=3)\n",
    "\n",
    "sns.countplot(x=df_train['segmento'],ax = ax[0],palette=palette)\n",
    "total = len(df_train)\n",
    "for bar in ax[0].patches:\n",
    "    height = bar.get_height()\n",
    "    percentage = f\"{(height / total) * 100:.2f}%\"\n",
    "    ax[0].annotate(\n",
    "        percentage,\n",
    "        (bar.get_x() + bar.get_width() / 2, height + 1000),\n",
    "        ha='center',\n",
    "        va='bottom',\n",
    "        fontweight='bold',\n",
    "        color=bar.get_facecolor()\n",
    "    )\n",
    "\n",
    "ax[0].set_title(\"Customer Segmentation Distribution\")\n",
    "    \n",
    "sns.countplot(x=df_train['segmento'],hue=df_train['sexo'],palette='cool',ax=ax[1])\n",
    "ax[1].set_title('Customer Segmentation v/s Gender')\n",
    "plt.tight_layout()\n",
    "plt.show()"
   ]
  },
  {
   "cell_type": "markdown",
   "id": "7c4d9413",
   "metadata": {},
   "source": [
    "### **Age, Gender, Segmento**"
   ]
  },
  {
   "cell_type": "code",
   "execution_count": 12,
   "id": "4bea74e8",
   "metadata": {},
   "outputs": [
    {
     "data": {
      "image/png": "[encoded data removed]",
      "text/plain": [
       "<Figure size 1200x600 with 2 Axes>"
      ]
     },
     "metadata": {},
     "output_type": "display_data"
    }
   ],
   "source": [
    "age_data = pd.to_numeric(df_train['age'], errors='coerce').dropna()\n",
    "\n",
    "\n",
    "fig, axes = plt.subplots(2, 1, figsize=(12, 6))\n",
    "\n",
    "sns.histplot(age_data, bins=50, kde=True, ax=axes[0], color='skyblue')\n",
    "axes[0].set_title('Age Distribution')\n",
    "axes[0].set_xlabel('Age')\n",
    "axes[0].set_ylabel('Count')\n",
    "axes[0].tick_params(axis='x', rotation=45)\n",
    "\n",
    "sns.boxplot(x=age_data, ax=axes[1], color='lightcoral')\n",
    "axes[1].set(xlabel=None)\n",
    "axes[1].set_title('Age Boxplot')\n",
    "\n",
    "plt.tight_layout()\n",
    "plt.show()\n"
   ]
  },
  {
   "cell_type": "code",
   "execution_count": 13,
   "id": "738dbb13",
   "metadata": {},
   "outputs": [
    {
     "data": {
      "image/png": "[encoded data removed]",
      "text/plain": [
       "<Figure size 1200x600 with 1 Axes>"
      ]
     },
     "metadata": {},
     "output_type": "display_data"
    }
   ],
   "source": [
    "segment_labels = {\n",
    "    '01 - TOP': 'VIP',\n",
    "    '02 - PARTICULARES': 'Individuals',\n",
    "    '03 - UNIVERSITARIO': 'College Students'\n",
    "}\n",
    "\n",
    "df_train['age'] = pd.to_numeric(df_train['age'], errors='coerce')\n",
    "df_viz = df_train.dropna(subset=['age', 'segmento', 'sexo']).copy()\n",
    "\n",
    "df_viz.loc[:, 'segmento'] = df_viz['segmento'].replace(segment_labels)\n",
    "\n",
    "plt.figure(figsize=(12,6))\n",
    "sns.violinplot(x='segmento', y='age', hue='sexo', data=df_viz, inner='box', palette='cool')\n",
    "plt.title('Age Distribution by Segment and Gender')\n",
    "plt.xlabel('Customer Segment')\n",
    "plt.ylabel('Age')\n",
    "plt.legend(title='Gender')\n",
    "plt.show()"
   ]
  },
  {
   "cell_type": "markdown",
   "id": "3261396a",
   "metadata": {},
   "source": [
    "### **Income distribution**"
   ]
  },
  {
   "cell_type": "code",
   "execution_count": 14,
   "id": "e7fb8a89",
   "metadata": {},
   "outputs": [
    {
     "data": {
      "text/plain": [
       "28894395.51"
      ]
     },
     "execution_count": 14,
     "metadata": {},
     "output_type": "execute_result"
    }
   ],
   "source": [
    "df_train['renta'].max()"
   ]
  },
  {
   "cell_type": "code",
   "execution_count": 15,
   "id": "5669762a",
   "metadata": {},
   "outputs": [
    {
     "data": {
      "image/png": "[encoded data removed]",
      "text/plain": [
       "<Figure size 1200x1000 with 2 Axes>"
      ]
     },
     "metadata": {},
     "output_type": "display_data"
    }
   ],
   "source": [
    "import matplotlib.ticker as ticker\n",
    "\n",
    "df_train['renta'] = pd.to_numeric(df_train['renta'], errors='coerce')\n",
    "df_renta = df_train['renta'].dropna()\n",
    "df_renta_clean = df_renta[(df_renta > 0) & (df_renta < 1_000_000)]\n",
    "# Plot income distribution again\n",
    "fig, ax = plt.subplots(2,1, figsize=(12,10))\n",
    "sns.histplot(df_renta_clean, bins=50, kde=True, color='skyblue',ax = ax[0])\n",
    "ax[0].set_title('Income Distribution (0 - 1,000,000)')\n",
    "ax[0].set_xlabel('Renta (Income)')\n",
    "ax[0].set_ylabel('Count')\n",
    "ax[0].xaxis.set_major_formatter(ticker.FuncFormatter(lambda x, _: f'{int(x):,}'))\n",
    "\n",
    "sns.boxplot(x=df_renta, ax = ax[1],color = 'salmon')\n",
    "ax[1].set_title('Income Distribution')\n",
    "ax[1].set(xlabel = None)\n",
    "ax[1].xaxis.set_major_formatter(ticker.FuncFormatter(lambda x, _: f'{int(x):,}'))\n",
    "\n",
    "plt.tight_layout()\n",
    "plt.show()\n"
   ]
  },
  {
   "cell_type": "code",
   "execution_count": 16,
   "id": "dbd5e635",
   "metadata": {},
   "outputs": [
    {
     "data": {
      "image/png": "[encoded data removed]",
      "text/plain": [
       "<Figure size 1000x600 with 1 Axes>"
      ]
     },
     "metadata": {},
     "output_type": "display_data"
    }
   ],
   "source": [
    "import numpy as np\n",
    "df_renta_log = np.log1p(df_renta[df_renta > 0])\n",
    "\n",
    "plt.figure(figsize=(10,6))\n",
    "sns.histplot(df_renta_log, bins=40, kde=True, color='skyblue')\n",
    "plt.title('Log Income Distribution')\n",
    "plt.xlabel('Log(Renta)')\n",
    "plt.ylabel('Count')\n",
    "plt.tight_layout()\n",
    "plt.show()\n"
   ]
  },
  {
   "cell_type": "code",
   "execution_count": 17,
   "id": "8fd46502",
   "metadata": {},
   "outputs": [
    {
     "data": {
      "image/png": "[encoded data removed]",
      "text/plain": [
       "<Figure size 1200x600 with 1 Axes>"
      ]
     },
     "metadata": {},
     "output_type": "display_data"
    }
   ],
   "source": [
    "# Clean renta and filter out invalid/huge values\n",
    "df_income_viz = df_train.dropna(subset=['renta', 'segmento', 'sexo']).copy()\n",
    "df_income_viz = df_income_viz[df_income_viz['renta'] <= 1_000_000]  # cap extreme outliers\n",
    "\n",
    "# Plot\n",
    "df_income_viz.loc[:, 'segmento'] = df_income_viz['segmento'].replace(segment_labels)\n",
    "\n",
    "plt.figure(figsize=(12,6))\n",
    "sns.violinplot(x='segmento', y='renta', hue='sexo', data=df_income_viz, inner='quartile', palette='cool')\n",
    "plt.title('Income Distribution by Segment and Gender')\n",
    "plt.xlabel('Customer Segment')\n",
    "plt.ylabel('Renta (Income)')\n",
    "plt.legend(title='Gender')\n",
    "\n",
    "ax = plt.gca()\n",
    "ax.yaxis.set_major_formatter(ticker.FuncFormatter(lambda y, _: f'{int(y):,}'))\n",
    "plt.tight_layout()\n",
    "plt.show()\n"
   ]
  },
  {
   "cell_type": "code",
   "execution_count": 18,
   "id": "def90ed7",
   "metadata": {},
   "outputs": [
    {
     "data": {
      "image/png": "[encoded data removed]",
      "text/plain": [
       "<Figure size 1000x600 with 1 Axes>"
      ]
     },
     "metadata": {},
     "output_type": "display_data"
    }
   ],
   "source": [
    "plt.figure(figsize=(10,6))\n",
    "sns.boxplot(x='ind_actividad_cliente', y='renta', hue='sexo', data=df_income_viz, palette='cool')\n",
    "plt.title('Income Distribution by Activity Status and Gender')\n",
    "plt.xlabel('Active (1) vs Inactive (0)')\n",
    "plt.ylabel('Renta (Income)')\n",
    "plt.legend(title='Gender')\n",
    "\n",
    "ax = plt.gca()\n",
    "ax.yaxis.set_major_formatter(ticker.FuncFormatter(lambda y, _: f'{int(y):,}'))\n",
    "plt.tight_layout()\n",
    "plt.show()\n"
   ]
  },
  {
   "cell_type": "code",
   "execution_count": 19,
   "id": "ad6d60d4",
   "metadata": {},
   "outputs": [
    {
     "data": {
      "image/png": "[encoded data removed]",
      "text/plain": [
       "<Figure size 1066x500 with 2 Axes>"
      ]
     },
     "metadata": {},
     "output_type": "display_data"
    }
   ],
   "source": [
    "g = sns.catplot(\n",
    "    data=df_income_viz,\n",
    "    x='segmento', y='renta', hue='sexo',\n",
    "    col='ind_actividad_cliente',\n",
    "    kind='violin',\n",
    "    palette='cool', inner='quartile'\n",
    ")\n",
    "\n",
    "g.set_titles(\"Activity Status: {col_name}\")\n",
    "g.set_axis_labels(\"Customer Segment\", \"Income (Renta)\")\n",
    "g.fig.subplots_adjust(top=0.85)\n",
    "g.fig.suptitle(\"Income Distribution by Segment, Gender, and Activity Status\")\n",
    "ax = plt.gca()\n",
    "ax.yaxis.set_major_formatter(ticker.FuncFormatter(lambda y, _: f'{int(y):,}'))\n",
    "plt.tight_layout()\n",
    "plt.show()\n"
   ]
  },
  {
   "cell_type": "markdown",
   "id": "cafa1d70",
   "metadata": {},
   "source": [
    "### **Segment-wise product ownership patterns**"
   ]
  },
  {
   "cell_type": "code",
   "execution_count": 6,
   "id": "e0bebc31",
   "metadata": {},
   "outputs": [],
   "source": [
    "#Product Labels Mapped from Kaggle Documentation of Data\n",
    "product_labels = {\n",
    "    'ind_ahor_fin_ult1': 'Saving Account',\n",
    "    'ind_aval_fin_ult1': 'Guarantees',\n",
    "    'ind_cco_fin_ult1': 'Current Accounts',\n",
    "    'ind_cder_fin_ult1': 'Derivada Account',\n",
    "    'ind_cno_fin_ult1': 'Payroll Account',\n",
    "    'ind_ctju_fin_ult1': 'Junior Account',\n",
    "    'ind_ctma_fin_ult1': 'Más particular Account',\n",
    "    'ind_ctop_fin_ult1': 'Particular Account',\n",
    "    'ind_ctpp_fin_ult1': 'Particular Plus Account',\n",
    "    'ind_deco_fin_ult1': 'Short-term Deposits',\n",
    "    'ind_deme_fin_ult1': 'Medium-term Deposits',\n",
    "    'ind_dela_fin_ult1': 'Long-term Deposits',\n",
    "    'ind_ecue_fin_ult1': 'e-Account',\n",
    "    'ind_fond_fin_ult1': 'Funds',\n",
    "    'ind_hip_fin_ult1': 'Mortgage',\n",
    "    'ind_plan_fin_ult1': 'Pensions',\n",
    "    'ind_pres_fin_ult1': 'Loans',\n",
    "    'ind_reca_fin_ult1': 'Taxes',\n",
    "    'ind_tjcr_fin_ult1': 'Credit Card',\n",
    "    'ind_valo_fin_ult1': 'Securities',\n",
    "    'ind_viv_fin_ult1': 'Home Account',\n",
    "    'ind_nomina_ult1': 'Payroll',\n",
    "    'ind_nom_pens_ult1': 'Pension Income',\n",
    "    'ind_recibo_ult1': 'Direct Debit'\n",
    "}\n"
   ]
  },
  {
   "cell_type": "code",
   "execution_count": 9,
   "id": "d651757e",
   "metadata": {},
   "outputs": [
    {
     "data": {
      "image/png": "[encoded data removed]",
      "text/plain": [
       "<Figure size 1500x600 with 1 Axes>"
      ]
     },
     "metadata": {},
     "output_type": "display_data"
    }
   ],
   "source": [
    "# Which products are most/least popular overall\n",
    "ult1_columns = [col for col in df_train.columns if col.endswith('ult1')]\n",
    "\n",
    "product_count = {}\n",
    "for col in ult1_columns:\n",
    "    sum_of_values = df_train[col].sum()\n",
    "    product_count[col] = sum_of_values\n",
    "\n",
    "product_df = pd.DataFrame(\n",
    "    list(product_count.items()), \n",
    "    columns=['product', 'count']\n",
    ")\n",
    "product_df['product_name'] = product_df['product'].map(product_labels)\n",
    "product_df.sort_values(by='count', ascending=False, inplace=True)\n",
    "plt.figure(figsize=(15,6))\n",
    "sns.barplot(x=product_df['product_name'], y = product_df['count'])\n",
    "plt.title(\"Popularity of Products\")\n",
    "plt.xlabel(\"Product Types\")\n",
    "plt.xticks(rotation = 90)\n",
    "plt.tight_layout()\n",
    "plt.show()\n"
   ]
  },
  {
   "cell_type": "code",
   "execution_count": 22,
   "id": "84118a21",
   "metadata": {},
   "outputs": [
    {
     "data": {
      "application/vnd.plotly.v1+json": {
       "config": {
        "plotlyServerURL": "https://plot.ly"
       },
       "data": [
        {
         "alignmentgroup": "True",
         "hovertemplate": "Segment=01 - TOP<br>Product Name=%{x}<br>Ownership Rate (%)=%{y}<extra></extra>",
         "legendgroup": "01 - TOP",
         "marker": {
          "color": "#636efa",
          "pattern": {
           "shape": ""
          }
         },
         "name": "01 - TOP",
         "offsetgroup": "01 - TOP",
         "orientation": "v",
         "showlegend": true,
         "textposition": "auto",
         "type": "bar",
         "x": [
          "Saving Account",
          "Guarantees",
          "Current Accounts",
          "Derivada Account",
          "Payroll Account",
          "Junior Account",
          "Más particular Account",
          "Particular Account",
          "Particular Plus Account",
          "Short-term Deposits",
          "Medium-term Deposits",
          "Long-term Deposits",
          "e-Account",
          "Funds",
          "Mortgage",
          "Pensions",
          "Loans",
          "Taxes",
          "Credit Card",
          "Securities",
          "Home Account",
          "Payroll",
          "Pension Income",
          "Direct Debit"
         ],
         "xaxis": "x",
         "y": [
          0.00020457464484062747,
          0.00022770047425739405,
          0.6100077916256035,
          0.0018536241732515983,
          0.3098202945163322,
          0.00022414265434712226,
          0.026592924919326435,
          0.25122477950411104,
          0.15254152865290266,
          0.014261521110324438,
          0.013382739592487307,
          0.49533569809763367,
          0.4661669115632705,
          0.19111896993997957,
          0.020695838418050956,
          0.07296554962980883,
          0.0023517189606896477,
          0.19838759601666484,
          0.20531111356205373,
          0.2020895076333026,
          0.011609166367216824,
          0.2266475965823278,
          0.25876965935350277,
          0.3836272685549203
         ],
         "yaxis": "y"
        },
        {
         "alignmentgroup": "True",
         "hovertemplate": "Segment=02 - PARTICULARES<br>Product Name=%{x}<br>Ownership Rate (%)=%{y}<extra></extra>",
         "legendgroup": "02 - PARTICULARES",
         "marker": {
          "color": "#EF553B",
          "pattern": {
           "shape": ""
          }
         },
         "name": "02 - PARTICULARES",
         "offsetgroup": "02 - PARTICULARES",
         "orientation": "v",
         "showlegend": true,
         "textposition": "auto",
         "type": "bar",
         "x": [
          "Saving Account",
          "Guarantees",
          "Current Accounts",
          "Derivada Account",
          "Payroll Account",
          "Junior Account",
          "Más particular Account",
          "Particular Account",
          "Particular Plus Account",
          "Short-term Deposits",
          "Medium-term Deposits",
          "Long-term Deposits",
          "e-Account",
          "Funds",
          "Mortgage",
          "Pensions",
          "Loans",
          "Taxes",
          "Credit Card",
          "Securities",
          "Home Account",
          "Payroll",
          "Pension Income",
          "Direct Debit"
         ],
         "xaxis": "x",
         "y": [
          0.0001609252005597835,
          0.000023617437709008044,
          0.5562054817580419,
          0.0005380504558919226,
          0.09534158603656682,
          0.016125433719168566,
          0.013433548319016308,
          0.1997140782541186,
          0.06186813932278254,
          0.0018160302102203205,
          0.0018454263826879157,
          0.03703490607043524,
          0.09901962508573883,
          0.017330425541002635,
          0.00847162515608865,
          0.010332503373022354,
          0.004126016617631171,
          0.06969530992862007,
          0.05792641409408283,
          0.028330749652647792,
          0.005715922424254606,
          0.06432830525832325,
          0.0698156707500304,
          0.16061314888281983
         ],
         "yaxis": "y"
        },
        {
         "alignmentgroup": "True",
         "hovertemplate": "Segment=03 - UNIVERSITARIO<br>Product Name=%{x}<br>Ownership Rate (%)=%{y}<extra></extra>",
         "legendgroup": "03 - UNIVERSITARIO",
         "marker": {
          "color": "#00cc96",
          "pattern": {
           "shape": ""
          }
         },
         "name": "03 - UNIVERSITARIO",
         "offsetgroup": "03 - UNIVERSITARIO",
         "orientation": "v",
         "showlegend": true,
         "textposition": "auto",
         "type": "bar",
         "x": [
          "Saving Account",
          "Guarantees",
          "Current Accounts",
          "Derivada Account",
          "Payroll Account",
          "Junior Account",
          "Más particular Account",
          "Particular Account",
          "Particular Plus Account",
          "Short-term Deposits",
          "Medium-term Deposits",
          "Long-term Deposits",
          "e-Account",
          "Funds",
          "Mortgage",
          "Pensions",
          "Loans",
          "Taxes",
          "Credit Card",
          "Securities",
          "Home Account",
          "Payroll",
          "Pension Income",
          "Direct Debit"
         ],
         "xaxis": "x",
         "y": [
          0,
          0,
          0.8287647710633342,
          0.000009117471324033107,
          0.034298914068643216,
          0.000016816669330994397,
          0.0016569484552876167,
          0.005748464364565941,
          0.002514598591168331,
          0.00012926548232740273,
          0.00009117471324033107,
          0.002525742167231038,
          0.015728853696800316,
          0.0013678233090788335,
          0.00021334882898237472,
          0.0003667249576999983,
          0.00007192671822292784,
          0.00816803864349046,
          0.005875906352628537,
          0.00205994068780988,
          0.0000927955970312703,
          0.021432610626183884,
          0.021910570283471206,
          0.050612096372077114
         ],
         "yaxis": "y"
        }
       ],
       "layout": {
        "barmode": "relative",
        "legend": {
         "title": {
          "text": "Segment"
         },
         "tracegroupgap": 0
        },
        "template": {
         "data": {
          "bar": [
           {
            "error_x": {
             "color": "#2a3f5f"
            },
            "error_y": {
             "color": "#2a3f5f"
            },
            "marker": {
             "line": {
              "color": "#E5ECF6",
              "width": 0.5
             },
             "pattern": {
              "fillmode": "overlay",
              "size": 10,
              "solidity": 0.2
             }
            },
            "type": "bar"
           }
          ],
          "barpolar": [
           {
            "marker": {
             "line": {
              "color": "#E5ECF6",
              "width": 0.5
             },
             "pattern": {
              "fillmode": "overlay",
              "size": 10,
              "solidity": 0.2
             }
            },
            "type": "barpolar"
           }
          ],
          "carpet": [
           {
            "aaxis": {
             "endlinecolor": "#2a3f5f",
             "gridcolor": "white",
             "linecolor": "white",
             "minorgridcolor": "white",
             "startlinecolor": "#2a3f5f"
            },
            "baxis": {
             "endlinecolor": "#2a3f5f",
             "gridcolor": "white",
             "linecolor": "white",
             "minorgridcolor": "white",
             "startlinecolor": "#2a3f5f"
            },
            "type": "carpet"
           }
          ],
          "choropleth": [
           {
            "colorbar": {
             "outlinewidth": 0,
             "ticks": ""
            },
            "type": "choropleth"
           }
          ],
          "contour": [
           {
            "colorbar": {
             "outlinewidth": 0,
             "ticks": ""
            },
            "colorscale": [
             [
              0,
              "#0d0887"
             ],
             [
              0.1111111111111111,
              "#46039f"
             ],
             [
              0.2222222222222222,
              "#7201a8"
             ],
             [
              0.3333333333333333,
              "#9c179e"
             ],
             [
              0.4444444444444444,
              "#bd3786"
             ],
             [
              0.5555555555555556,
              "#d8576b"
             ],
             [
              0.6666666666666666,
              "#ed7953"
             ],
             [
              0.7777777777777778,
              "#fb9f3a"
             ],
             [
              0.8888888888888888,
              "#fdca26"
             ],
             [
              1,
              "#f0f921"
             ]
            ],
            "type": "contour"
           }
          ],
          "contourcarpet": [
           {
            "colorbar": {
             "outlinewidth": 0,
             "ticks": ""
            },
            "type": "contourcarpet"
           }
          ],
          "heatmap": [
           {
            "colorbar": {
             "outlinewidth": 0,
             "ticks": ""
            },
            "colorscale": [
             [
              0,
              "#0d0887"
             ],
             [
              0.1111111111111111,
              "#46039f"
             ],
             [
              0.2222222222222222,
              "#7201a8"
             ],
             [
              0.3333333333333333,
              "#9c179e"
             ],
             [
              0.4444444444444444,
              "#bd3786"
             ],
             [
              0.5555555555555556,
              "#d8576b"
             ],
             [
              0.6666666666666666,
              "#ed7953"
             ],
             [
              0.7777777777777778,
              "#fb9f3a"
             ],
             [
              0.8888888888888888,
              "#fdca26"
             ],
             [
              1,
              "#f0f921"
             ]
            ],
            "type": "heatmap"
           }
          ],
          "heatmapgl": [
           {
            "colorbar": {
             "outlinewidth": 0,
             "ticks": ""
            },
            "colorscale": [
             [
              0,
              "#0d0887"
             ],
             [
              0.1111111111111111,
              "#46039f"
             ],
             [
              0.2222222222222222,
              "#7201a8"
             ],
             [
              0.3333333333333333,
              "#9c179e"
             ],
             [
              0.4444444444444444,
              "#bd3786"
             ],
             [
              0.5555555555555556,
              "#d8576b"
             ],
             [
              0.6666666666666666,
              "#ed7953"
             ],
             [
              0.7777777777777778,
              "#fb9f3a"
             ],
             [
              0.8888888888888888,
              "#fdca26"
             ],
             [
              1,
              "#f0f921"
             ]
            ],
            "type": "heatmapgl"
           }
          ],
          "histogram": [
           {
            "marker": {
             "pattern": {
              "fillmode": "overlay",
              "size": 10,
              "solidity": 0.2
             }
            },
            "type": "histogram"
           }
          ],
          "histogram2d": [
           {
            "colorbar": {
             "outlinewidth": 0,
             "ticks": ""
            },
            "colorscale": [
             [
              0,
              "#0d0887"
             ],
             [
              0.1111111111111111,
              "#46039f"
             ],
             [
              0.2222222222222222,
              "#7201a8"
             ],
             [
              0.3333333333333333,
              "#9c179e"
             ],
             [
              0.4444444444444444,
              "#bd3786"
             ],
             [
              0.5555555555555556,
              "#d8576b"
             ],
             [
              0.6666666666666666,
              "#ed7953"
             ],
             [
              0.7777777777777778,
              "#fb9f3a"
             ],
             [
              0.8888888888888888,
              "#fdca26"
             ],
             [
              1,
              "#f0f921"
             ]
            ],
            "type": "histogram2d"
           }
          ],
          "histogram2dcontour": [
           {
            "colorbar": {
             "outlinewidth": 0,
             "ticks": ""
            },
            "colorscale": [
             [
              0,
              "#0d0887"
             ],
             [
              0.1111111111111111,
              "#46039f"
             ],
             [
              0.2222222222222222,
              "#7201a8"
             ],
             [
              0.3333333333333333,
              "#9c179e"
             ],
             [
              0.4444444444444444,
              "#bd3786"
             ],
             [
              0.5555555555555556,
              "#d8576b"
             ],
             [
              0.6666666666666666,
              "#ed7953"
             ],
             [
              0.7777777777777778,
              "#fb9f3a"
             ],
             [
              0.8888888888888888,
              "#fdca26"
             ],
             [
              1,
              "#f0f921"
             ]
            ],
            "type": "histogram2dcontour"
           }
          ],
          "mesh3d": [
           {
            "colorbar": {
             "outlinewidth": 0,
             "ticks": ""
            },
            "type": "mesh3d"
           }
          ],
          "parcoords": [
           {
            "line": {
             "colorbar": {
              "outlinewidth": 0,
              "ticks": ""
             }
            },
            "type": "parcoords"
           }
          ],
          "pie": [
           {
            "automargin": true,
            "type": "pie"
           }
          ],
          "scatter": [
           {
            "fillpattern": {
             "fillmode": "overlay",
             "size": 10,
             "solidity": 0.2
            },
            "type": "scatter"
           }
          ],
          "scatter3d": [
           {
            "line": {
             "colorbar": {
              "outlinewidth": 0,
              "ticks": ""
             }
            },
            "marker": {
             "colorbar": {
              "outlinewidth": 0,
              "ticks": ""
             }
            },
            "type": "scatter3d"
           }
          ],
          "scattercarpet": [
           {
            "marker": {
             "colorbar": {
              "outlinewidth": 0,
              "ticks": ""
             }
            },
            "type": "scattercarpet"
           }
          ],
          "scattergeo": [
           {
            "marker": {
             "colorbar": {
              "outlinewidth": 0,
              "ticks": ""
             }
            },
            "type": "scattergeo"
           }
          ],
          "scattergl": [
           {
            "marker": {
             "colorbar": {
              "outlinewidth": 0,
              "ticks": ""
             }
            },
            "type": "scattergl"
           }
          ],
          "scattermapbox": [
           {
            "marker": {
             "colorbar": {
              "outlinewidth": 0,
              "ticks": ""
             }
            },
            "type": "scattermapbox"
           }
          ],
          "scatterpolar": [
           {
            "marker": {
             "colorbar": {
              "outlinewidth": 0,
              "ticks": ""
             }
            },
            "type": "scatterpolar"
           }
          ],
          "scatterpolargl": [
           {
            "marker": {
             "colorbar": {
              "outlinewidth": 0,
              "ticks": ""
             }
            },
            "type": "scatterpolargl"
           }
          ],
          "scatterternary": [
           {
            "marker": {
             "colorbar": {
              "outlinewidth": 0,
              "ticks": ""
             }
            },
            "type": "scatterternary"
           }
          ],
          "surface": [
           {
            "colorbar": {
             "outlinewidth": 0,
             "ticks": ""
            },
            "colorscale": [
             [
              0,
              "#0d0887"
             ],
             [
              0.1111111111111111,
              "#46039f"
             ],
             [
              0.2222222222222222,
              "#7201a8"
             ],
             [
              0.3333333333333333,
              "#9c179e"
             ],
             [
              0.4444444444444444,
              "#bd3786"
             ],
             [
              0.5555555555555556,
              "#d8576b"
             ],
             [
              0.6666666666666666,
              "#ed7953"
             ],
             [
              0.7777777777777778,
              "#fb9f3a"
             ],
             [
              0.8888888888888888,
              "#fdca26"
             ],
             [
              1,
              "#f0f921"
             ]
            ],
            "type": "surface"
           }
          ],
          "table": [
           {
            "cells": {
             "fill": {
              "color": "#EBF0F8"
             },
             "line": {
              "color": "white"
             }
            },
            "header": {
             "fill": {
              "color": "#C8D4E3"
             },
             "line": {
              "color": "white"
             }
            },
            "type": "table"
           }
          ]
         },
         "layout": {
          "annotationdefaults": {
           "arrowcolor": "#2a3f5f",
           "arrowhead": 0,
           "arrowwidth": 1
          },
          "autotypenumbers": "strict",
          "coloraxis": {
           "colorbar": {
            "outlinewidth": 0,
            "ticks": ""
           }
          },
          "colorscale": {
           "diverging": [
            [
             0,
             "#8e0152"
            ],
            [
             0.1,
             "#c51b7d"
            ],
            [
             0.2,
             "#de77ae"
            ],
            [
             0.3,
             "#f1b6da"
            ],
            [
             0.4,
             "#fde0ef"
            ],
            [
             0.5,
             "#f7f7f7"
            ],
            [
             0.6,
             "#e6f5d0"
            ],
            [
             0.7,
             "#b8e186"
            ],
            [
             0.8,
             "#7fbc41"
            ],
            [
             0.9,
             "#4d9221"
            ],
            [
             1,
             "#276419"
            ]
           ],
           "sequential": [
            [
             0,
             "#0d0887"
            ],
            [
             0.1111111111111111,
             "#46039f"
            ],
            [
             0.2222222222222222,
             "#7201a8"
            ],
            [
             0.3333333333333333,
             "#9c179e"
            ],
            [
             0.4444444444444444,
             "#bd3786"
            ],
            [
             0.5555555555555556,
             "#d8576b"
            ],
            [
             0.6666666666666666,
             "#ed7953"
            ],
            [
             0.7777777777777778,
             "#fb9f3a"
            ],
            [
             0.8888888888888888,
             "#fdca26"
            ],
            [
             1,
             "#f0f921"
            ]
           ],
           "sequentialminus": [
            [
             0,
             "#0d0887"
            ],
            [
             0.1111111111111111,
             "#46039f"
            ],
            [
             0.2222222222222222,
             "#7201a8"
            ],
            [
             0.3333333333333333,
             "#9c179e"
            ],
            [
             0.4444444444444444,
             "#bd3786"
            ],
            [
             0.5555555555555556,
             "#d8576b"
            ],
            [
             0.6666666666666666,
             "#ed7953"
            ],
            [
             0.7777777777777778,
             "#fb9f3a"
            ],
            [
             0.8888888888888888,
             "#fdca26"
            ],
            [
             1,
             "#f0f921"
            ]
           ]
          },
          "colorway": [
           "#636efa",
           "#EF553B",
           "#00cc96",
           "#ab63fa",
           "#FFA15A",
           "#19d3f3",
           "#FF6692",
           "#B6E880",
           "#FF97FF",
           "#FECB52"
          ],
          "font": {
           "color": "#2a3f5f"
          },
          "geo": {
           "bgcolor": "white",
           "lakecolor": "white",
           "landcolor": "#E5ECF6",
           "showlakes": true,
           "showland": true,
           "subunitcolor": "white"
          },
          "hoverlabel": {
           "align": "left"
          },
          "hovermode": "closest",
          "mapbox": {
           "style": "light"
          },
          "paper_bgcolor": "white",
          "plot_bgcolor": "#E5ECF6",
          "polar": {
           "angularaxis": {
            "gridcolor": "white",
            "linecolor": "white",
            "ticks": ""
           },
           "bgcolor": "#E5ECF6",
           "radialaxis": {
            "gridcolor": "white",
            "linecolor": "white",
            "ticks": ""
           }
          },
          "scene": {
           "xaxis": {
            "backgroundcolor": "#E5ECF6",
            "gridcolor": "white",
            "gridwidth": 2,
            "linecolor": "white",
            "showbackground": true,
            "ticks": "",
            "zerolinecolor": "white"
           },
           "yaxis": {
            "backgroundcolor": "#E5ECF6",
            "gridcolor": "white",
            "gridwidth": 2,
            "linecolor": "white",
            "showbackground": true,
            "ticks": "",
            "zerolinecolor": "white"
           },
           "zaxis": {
            "backgroundcolor": "#E5ECF6",
            "gridcolor": "white",
            "gridwidth": 2,
            "linecolor": "white",
            "showbackground": true,
            "ticks": "",
            "zerolinecolor": "white"
           }
          },
          "shapedefaults": {
           "line": {
            "color": "#2a3f5f"
           }
          },
          "ternary": {
           "aaxis": {
            "gridcolor": "white",
            "linecolor": "white",
            "ticks": ""
           },
           "baxis": {
            "gridcolor": "white",
            "linecolor": "white",
            "ticks": ""
           },
           "bgcolor": "#E5ECF6",
           "caxis": {
            "gridcolor": "white",
            "linecolor": "white",
            "ticks": ""
           }
          },
          "title": {
           "x": 0.05
          },
          "xaxis": {
           "automargin": true,
           "gridcolor": "white",
           "linecolor": "white",
           "ticks": "",
           "title": {
            "standoff": 15
           },
           "zerolinecolor": "white",
           "zerolinewidth": 2
          },
          "yaxis": {
           "automargin": true,
           "gridcolor": "white",
           "linecolor": "white",
           "ticks": "",
           "title": {
            "standoff": 15
           },
           "zerolinecolor": "white",
           "zerolinewidth": 2
          }
         }
        },
        "title": {
         "text": "Customer Segment w.r.t products owned"
        },
        "xaxis": {
         "anchor": "y",
         "domain": [
          0,
          1
         ],
         "title": {
          "text": "Product Name"
         }
        },
        "yaxis": {
         "anchor": "x",
         "domain": [
          0,
          1
         ],
         "title": {
          "text": "Ownership Rate (%)"
         }
        }
       }
      }
     },
     "metadata": {},
     "output_type": "display_data"
    }
   ],
   "source": [
    "import plotly.express as px\n",
    "\n",
    "df_product_segment_relation = df_train.groupby('segmento')[ult1_columns].mean()\n",
    "\n",
    "df_melted = df_product_segment_relation.reset_index().melt(\n",
    "    id_vars='segmento',\n",
    "    var_name='product',\n",
    "    value_name='ownership_rate'\n",
    ")\n",
    "df_melted['product_name'] = df_melted['product'].map(product_labels)\n",
    "\n",
    "px.bar(df_melted, x='product_name',\n",
    "       y = 'ownership_rate',\n",
    "       color='segmento',\n",
    "       title='Customer Segment w.r.t products owned',\n",
    "       labels={\n",
    "        \"segmento\": \"Segment\",\n",
    "        \"product_name\" : \"Product Name\",\n",
    "        \"ownership_rate\": \"Ownership Rate (%)\"\n",
    "    }\n",
    "       )\n",
    "\n"
   ]
  },
  {
   "cell_type": "code",
   "execution_count": 16,
   "id": "a6a439ab",
   "metadata": {},
   "outputs": [
    {
     "data": {
      "application/vnd.plotly.v1+json": {
       "config": {
        "plotlyServerURL": "https://plot.ly"
       },
       "data": [
        {
         "alignmentgroup": "True",
         "hovertemplate": "segmento=01 - TOP<br>Product=%{x}<br>Ownership Rate (%)=%{y}<br>Customer Status=%{marker.color}<extra></extra>",
         "legendgroup": "",
         "marker": {
          "color": [
           0,
           1,
           0,
           1,
           0,
           1,
           0,
           1,
           0,
           1,
           0,
           1,
           0,
           1,
           0,
           1,
           0,
           1,
           0,
           1,
           0,
           1,
           0,
           1,
           0,
           1,
           0,
           1,
           0,
           1,
           0,
           1,
           0,
           1,
           0,
           1,
           0,
           1,
           0,
           1,
           0,
           1,
           0,
           1,
           0,
           1,
           0,
           1
          ],
          "coloraxis": "coloraxis",
          "pattern": {
           "shape": ""
          }
         },
         "name": "",
         "offsetgroup": "",
         "orientation": "v",
         "showlegend": false,
         "textposition": "auto",
         "type": "bar",
         "x": [
          "Saving Account",
          "Saving Account",
          "Guarantees",
          "Guarantees",
          "Current Accounts",
          "Current Accounts",
          "Derivada Account",
          "Derivada Account",
          "Payroll Account",
          "Payroll Account",
          "Junior Account",
          "Junior Account",
          "Más particular Account",
          "Más particular Account",
          "Particular Account",
          "Particular Account",
          "Particular Plus Account",
          "Particular Plus Account",
          "Short-term Deposits",
          "Short-term Deposits",
          "Medium-term Deposits",
          "Medium-term Deposits",
          "Long-term Deposits",
          "Long-term Deposits",
          "e-Account",
          "e-Account",
          "Funds",
          "Funds",
          "Mortgage",
          "Mortgage",
          "Pensions",
          "Pensions",
          "Loans",
          "Loans",
          "Taxes",
          "Taxes",
          "Credit Card",
          "Credit Card",
          "Securities",
          "Securities",
          "Home Account",
          "Home Account",
          "Payroll",
          "Payroll",
          "Pension Income",
          "Pension Income",
          "Direct Debit",
          "Direct Debit"
         ],
         "xaxis": "x",
         "y": [
          0,
          0.00020782957252167753,
          0,
          0.0002313233502849976,
          0.24102680599727397,
          0.615878540783391,
          0,
          0.0018831166484138085,
          0.0035211267605633804,
          0.31469373149865,
          0,
          0.0002277089229367945,
          0.043730122671512946,
          0.026320259949614882,
          0.03180372557928214,
          0.254715924082568,
          0.012039981826442525,
          0.1547770079047526,
          0.06758291685597456,
          0.013413139889181658,
          0,
          0.013595668470265913,
          0.050431621990004546,
          0.5024144374685997,
          0.1537937301226715,
          0.4711369904109243,
          0.006133575647432985,
          0.19406221875237198,
          0,
          0.02102512388449736,
          0.0013630168105406633,
          0.0741047967065338,
          0.00022716946842344388,
          0.0023855220498140376,
          0.0005679236710586097,
          0.20153504729478186,
          0.00022716946842344388,
          0.20857414455540738,
          0.007496592457973648,
          0.20518561891646697,
          0.00011358473421172194,
          0.011792069223512574,
          0.0012494320763289414,
          0.23023387363486364,
          0.0013630168105406633,
          0.2628652185935052,
          0.034302589731940024,
          0.38918527193144153
         ],
         "yaxis": "y"
        },
        {
         "alignmentgroup": "True",
         "hovertemplate": "segmento=02 - PARTICULARES<br>Product=%{x}<br>Ownership Rate (%)=%{y}<br>Customer Status=%{marker.color}<extra></extra>",
         "legendgroup": "",
         "marker": {
          "color": [
           0,
           1,
           0,
           1,
           0,
           1,
           0,
           1,
           0,
           1,
           0,
           1,
           0,
           1,
           0,
           1,
           0,
           1,
           0,
           1,
           0,
           1,
           0,
           1,
           0,
           1,
           0,
           1,
           0,
           1,
           0,
           1,
           0,
           1,
           0,
           1,
           0,
           1,
           0,
           1,
           0,
           1,
           0,
           1,
           0,
           1,
           0,
           1
          ],
          "coloraxis": "coloraxis",
          "pattern": {
           "shape": ""
          }
         },
         "name": "",
         "offsetgroup": "",
         "orientation": "v",
         "showlegend": false,
         "textposition": "auto",
         "type": "bar",
         "x": [
          "Saving Account",
          "Saving Account",
          "Guarantees",
          "Guarantees",
          "Current Accounts",
          "Current Accounts",
          "Derivada Account",
          "Derivada Account",
          "Payroll Account",
          "Payroll Account",
          "Junior Account",
          "Junior Account",
          "Más particular Account",
          "Más particular Account",
          "Particular Account",
          "Particular Account",
          "Particular Plus Account",
          "Particular Plus Account",
          "Short-term Deposits",
          "Short-term Deposits",
          "Medium-term Deposits",
          "Medium-term Deposits",
          "Long-term Deposits",
          "Long-term Deposits",
          "e-Account",
          "e-Account",
          "Funds",
          "Funds",
          "Mortgage",
          "Mortgage",
          "Pensions",
          "Pensions",
          "Loans",
          "Loans",
          "Taxes",
          "Taxes",
          "Credit Card",
          "Credit Card",
          "Securities",
          "Securities",
          "Home Account",
          "Home Account",
          "Payroll",
          "Payroll",
          "Pension Income",
          "Pension Income",
          "Direct Debit",
          "Direct Debit"
         ],
         "xaxis": "x2",
         "y": [
          0.00009846738412705768,
          0.0002179236560813915,
          0,
          0.000045170504237377726,
          0.38595186366637774,
          0.7115774405046795,
          0.0001300611972159532,
          0.0009103778752948096,
          0.0021552246162141555,
          0.1803826422246185,
          0.006044423007457193,
          0.025325275684237033,
          0.007053318772095923,
          0.019256089848938302,
          0.14924706677773647,
          0.24576983033189748,
          0.027381567958818517,
          0.09334028190238942,
          0.0004573204444617625,
          0.0030559768265702517,
          0.000019482851404818898,
          0.0035117664358165577,
          0.0005589472098977097,
          0.07032254623249162,
          0.01970190184223524,
          0.171404283701521,
          0.00043467821174805407,
          0.03274933637801753,
          0.000051603228045196,
          0.016155663324049354,
          0.00017850504395225964,
          0.01959895319759116,
          0.001652619706324976,
          0.00638321694720433,
          0.011202112994219386,
          0.1230756884657598,
          0.0008638275062055515,
          0.11000123017543455,
          0.0008822572305074072,
          0.053380003113881566,
          0.0030748678588767555,
          0.00812612565857634,
          0.0004491615475589939,
          0.12262477185988377,
          0.0005355185156711568,
          0.1330411281726974,
          0.0016665736404392383,
          0.3056663994879395
         ],
         "yaxis": "y2"
        },
        {
         "alignmentgroup": "True",
         "hovertemplate": "segmento=03 - UNIVERSITARIO<br>Product=%{x}<br>Ownership Rate (%)=%{y}<br>Customer Status=%{marker.color}<extra></extra>",
         "legendgroup": "",
         "marker": {
          "color": [
           0,
           1,
           0,
           1,
           0,
           1,
           0,
           1,
           0,
           1,
           0,
           1,
           0,
           1,
           0,
           1,
           0,
           1,
           0,
           1,
           0,
           1,
           0,
           1,
           0,
           1,
           0,
           1,
           0,
           1,
           0,
           1,
           0,
           1,
           0,
           1,
           0,
           1,
           0,
           1,
           0,
           1,
           0,
           1,
           0,
           1,
           0,
           1
          ],
          "coloraxis": "coloraxis",
          "pattern": {
           "shape": ""
          }
         },
         "name": "",
         "offsetgroup": "",
         "orientation": "v",
         "showlegend": false,
         "textposition": "auto",
         "type": "bar",
         "x": [
          "Saving Account",
          "Saving Account",
          "Guarantees",
          "Guarantees",
          "Current Accounts",
          "Current Accounts",
          "Derivada Account",
          "Derivada Account",
          "Payroll Account",
          "Payroll Account",
          "Junior Account",
          "Junior Account",
          "Más particular Account",
          "Más particular Account",
          "Particular Account",
          "Particular Account",
          "Particular Plus Account",
          "Particular Plus Account",
          "Short-term Deposits",
          "Short-term Deposits",
          "Medium-term Deposits",
          "Medium-term Deposits",
          "Long-term Deposits",
          "Long-term Deposits",
          "e-Account",
          "e-Account",
          "Funds",
          "Funds",
          "Mortgage",
          "Mortgage",
          "Pensions",
          "Pensions",
          "Loans",
          "Loans",
          "Taxes",
          "Taxes",
          "Credit Card",
          "Credit Card",
          "Securities",
          "Securities",
          "Home Account",
          "Home Account",
          "Payroll",
          "Payroll",
          "Pension Income",
          "Pension Income",
          "Direct Debit",
          "Direct Debit"
         ],
         "xaxis": "x3",
         "y": [
          0,
          0,
          0,
          0,
          0.8074625356150054,
          0.8787451041011988,
          0.0000020227589275910097,
          0.000025763428000371537,
          0.0016757112887286092,
          0.11084104710707213,
          0.000006068276782773029,
          0.0000420350667374483,
          0.00013436898590425992,
          0.005229297899128044,
          0.0003750772982875901,
          0.01835576446531734,
          0.0000664620790494189,
          0.008258534644013833,
          0.000028029659425189707,
          0.00036678985653160526,
          0,
          0.00030509322632018925,
          0.000011847588004461628,
          0.008423962971174113,
          0.0009613884217278985,
          0.050376993529989644,
          0.000004334483416266449,
          0.004566906605539544,
          0,
          0.0007139181495892428,
          0.0000057793112216885995,
          0.001213593055806975,
          0,
          0.0002406846563192604,
          0.0014485843577162474,
          0.02393354662739778,
          0.00003323103952470945,
          0.019584273189966635,
          0.000018782761470487946,
          0.006849003938414559,
          0.000010980691321208338,
          0.0002847536778988433,
          0.00013234653292539008,
          0.07140847390862476,
          0.00013494722898724272,
          0.07300174717668587,
          0.0013055464049794546,
          0.16629750386281925
         ],
         "yaxis": "y3"
        }
       ],
       "layout": {
        "annotations": [
         {
          "font": {},
          "showarrow": false,
          "text": "segmento=01 - TOP",
          "x": 0.15999999999999998,
          "xanchor": "center",
          "xref": "paper",
          "y": 1,
          "yanchor": "bottom",
          "yref": "paper"
         },
         {
          "font": {},
          "showarrow": false,
          "text": "segmento=02 - PARTICULARES",
          "x": 0.49999999999999994,
          "xanchor": "center",
          "xref": "paper",
          "y": 1,
          "yanchor": "bottom",
          "yref": "paper"
         },
         {
          "font": {},
          "showarrow": false,
          "text": "segmento=03 - UNIVERSITARIO",
          "x": 0.8399999999999999,
          "xanchor": "center",
          "xref": "paper",
          "y": 1,
          "yanchor": "bottom",
          "yref": "paper"
         }
        ],
        "barmode": "group",
        "coloraxis": {
         "colorbar": {
          "title": {
           "text": "Customer Status"
          }
         },
         "colorscale": [
          [
           0,
           "#0d0887"
          ],
          [
           0.1111111111111111,
           "#46039f"
          ],
          [
           0.2222222222222222,
           "#7201a8"
          ],
          [
           0.3333333333333333,
           "#9c179e"
          ],
          [
           0.4444444444444444,
           "#bd3786"
          ],
          [
           0.5555555555555556,
           "#d8576b"
          ],
          [
           0.6666666666666666,
           "#ed7953"
          ],
          [
           0.7777777777777778,
           "#fb9f3a"
          ],
          [
           0.8888888888888888,
           "#fdca26"
          ],
          [
           1,
           "#f0f921"
          ]
         ]
        },
        "legend": {
         "tracegroupgap": 0
        },
        "template": {
         "data": {
          "bar": [
           {
            "error_x": {
             "color": "#2a3f5f"
            },
            "error_y": {
             "color": "#2a3f5f"
            },
            "marker": {
             "line": {
              "color": "#E5ECF6",
              "width": 0.5
             },
             "pattern": {
              "fillmode": "overlay",
              "size": 10,
              "solidity": 0.2
             }
            },
            "type": "bar"
           }
          ],
          "barpolar": [
           {
            "marker": {
             "line": {
              "color": "#E5ECF6",
              "width": 0.5
             },
             "pattern": {
              "fillmode": "overlay",
              "size": 10,
              "solidity": 0.2
             }
            },
            "type": "barpolar"
           }
          ],
          "carpet": [
           {
            "aaxis": {
             "endlinecolor": "#2a3f5f",
             "gridcolor": "white",
             "linecolor": "white",
             "minorgridcolor": "white",
             "startlinecolor": "#2a3f5f"
            },
            "baxis": {
             "endlinecolor": "#2a3f5f",
             "gridcolor": "white",
             "linecolor": "white",
             "minorgridcolor": "white",
             "startlinecolor": "#2a3f5f"
            },
            "type": "carpet"
           }
          ],
          "choropleth": [
           {
            "colorbar": {
             "outlinewidth": 0,
             "ticks": ""
            },
            "type": "choropleth"
           }
          ],
          "contour": [
           {
            "colorbar": {
             "outlinewidth": 0,
             "ticks": ""
            },
            "colorscale": [
             [
              0,
              "#0d0887"
             ],
             [
              0.1111111111111111,
              "#46039f"
             ],
             [
              0.2222222222222222,
              "#7201a8"
             ],
             [
              0.3333333333333333,
              "#9c179e"
             ],
             [
              0.4444444444444444,
              "#bd3786"
             ],
             [
              0.5555555555555556,
              "#d8576b"
             ],
             [
              0.6666666666666666,
              "#ed7953"
             ],
             [
              0.7777777777777778,
              "#fb9f3a"
             ],
             [
              0.8888888888888888,
              "#fdca26"
             ],
             [
              1,
              "#f0f921"
             ]
            ],
            "type": "contour"
           }
          ],
          "contourcarpet": [
           {
            "colorbar": {
             "outlinewidth": 0,
             "ticks": ""
            },
            "type": "contourcarpet"
           }
          ],
          "heatmap": [
           {
            "colorbar": {
             "outlinewidth": 0,
             "ticks": ""
            },
            "colorscale": [
             [
              0,
              "#0d0887"
             ],
             [
              0.1111111111111111,
              "#46039f"
             ],
             [
              0.2222222222222222,
              "#7201a8"
             ],
             [
              0.3333333333333333,
              "#9c179e"
             ],
             [
              0.4444444444444444,
              "#bd3786"
             ],
             [
              0.5555555555555556,
              "#d8576b"
             ],
             [
              0.6666666666666666,
              "#ed7953"
             ],
             [
              0.7777777777777778,
              "#fb9f3a"
             ],
             [
              0.8888888888888888,
              "#fdca26"
             ],
             [
              1,
              "#f0f921"
             ]
            ],
            "type": "heatmap"
           }
          ],
          "heatmapgl": [
           {
            "colorbar": {
             "outlinewidth": 0,
             "ticks": ""
            },
            "colorscale": [
             [
              0,
              "#0d0887"
             ],
             [
              0.1111111111111111,
              "#46039f"
             ],
             [
              0.2222222222222222,
              "#7201a8"
             ],
             [
              0.3333333333333333,
              "#9c179e"
             ],
             [
              0.4444444444444444,
              "#bd3786"
             ],
             [
              0.5555555555555556,
              "#d8576b"
             ],
             [
              0.6666666666666666,
              "#ed7953"
             ],
             [
              0.7777777777777778,
              "#fb9f3a"
             ],
             [
              0.8888888888888888,
              "#fdca26"
             ],
             [
              1,
              "#f0f921"
             ]
            ],
            "type": "heatmapgl"
           }
          ],
          "histogram": [
           {
            "marker": {
             "pattern": {
              "fillmode": "overlay",
              "size": 10,
              "solidity": 0.2
             }
            },
            "type": "histogram"
           }
          ],
          "histogram2d": [
           {
            "colorbar": {
             "outlinewidth": 0,
             "ticks": ""
            },
            "colorscale": [
             [
              0,
              "#0d0887"
             ],
             [
              0.1111111111111111,
              "#46039f"
             ],
             [
              0.2222222222222222,
              "#7201a8"
             ],
             [
              0.3333333333333333,
              "#9c179e"
             ],
             [
              0.4444444444444444,
              "#bd3786"
             ],
             [
              0.5555555555555556,
              "#d8576b"
             ],
             [
              0.6666666666666666,
              "#ed7953"
             ],
             [
              0.7777777777777778,
              "#fb9f3a"
             ],
             [
              0.8888888888888888,
              "#fdca26"
             ],
             [
              1,
              "#f0f921"
             ]
            ],
            "type": "histogram2d"
           }
          ],
          "histogram2dcontour": [
           {
            "colorbar": {
             "outlinewidth": 0,
             "ticks": ""
            },
            "colorscale": [
             [
              0,
              "#0d0887"
             ],
             [
              0.1111111111111111,
              "#46039f"
             ],
             [
              0.2222222222222222,
              "#7201a8"
             ],
             [
              0.3333333333333333,
              "#9c179e"
             ],
             [
              0.4444444444444444,
              "#bd3786"
             ],
             [
              0.5555555555555556,
              "#d8576b"
             ],
             [
              0.6666666666666666,
              "#ed7953"
             ],
             [
              0.7777777777777778,
              "#fb9f3a"
             ],
             [
              0.8888888888888888,
              "#fdca26"
             ],
             [
              1,
              "#f0f921"
             ]
            ],
            "type": "histogram2dcontour"
           }
          ],
          "mesh3d": [
           {
            "colorbar": {
             "outlinewidth": 0,
             "ticks": ""
            },
            "type": "mesh3d"
           }
          ],
          "parcoords": [
           {
            "line": {
             "colorbar": {
              "outlinewidth": 0,
              "ticks": ""
             }
            },
            "type": "parcoords"
           }
          ],
          "pie": [
           {
            "automargin": true,
            "type": "pie"
           }
          ],
          "scatter": [
           {
            "fillpattern": {
             "fillmode": "overlay",
             "size": 10,
             "solidity": 0.2
            },
            "type": "scatter"
           }
          ],
          "scatter3d": [
           {
            "line": {
             "colorbar": {
              "outlinewidth": 0,
              "ticks": ""
             }
            },
            "marker": {
             "colorbar": {
              "outlinewidth": 0,
              "ticks": ""
             }
            },
            "type": "scatter3d"
           }
          ],
          "scattercarpet": [
           {
            "marker": {
             "colorbar": {
              "outlinewidth": 0,
              "ticks": ""
             }
            },
            "type": "scattercarpet"
           }
          ],
          "scattergeo": [
           {
            "marker": {
             "colorbar": {
              "outlinewidth": 0,
              "ticks": ""
             }
            },
            "type": "scattergeo"
           }
          ],
          "scattergl": [
           {
            "marker": {
             "colorbar": {
              "outlinewidth": 0,
              "ticks": ""
             }
            },
            "type": "scattergl"
           }
          ],
          "scattermapbox": [
           {
            "marker": {
             "colorbar": {
              "outlinewidth": 0,
              "ticks": ""
             }
            },
            "type": "scattermapbox"
           }
          ],
          "scatterpolar": [
           {
            "marker": {
             "colorbar": {
              "outlinewidth": 0,
              "ticks": ""
             }
            },
            "type": "scatterpolar"
           }
          ],
          "scatterpolargl": [
           {
            "marker": {
             "colorbar": {
              "outlinewidth": 0,
              "ticks": ""
             }
            },
            "type": "scatterpolargl"
           }
          ],
          "scatterternary": [
           {
            "marker": {
             "colorbar": {
              "outlinewidth": 0,
              "ticks": ""
             }
            },
            "type": "scatterternary"
           }
          ],
          "surface": [
           {
            "colorbar": {
             "outlinewidth": 0,
             "ticks": ""
            },
            "colorscale": [
             [
              0,
              "#0d0887"
             ],
             [
              0.1111111111111111,
              "#46039f"
             ],
             [
              0.2222222222222222,
              "#7201a8"
             ],
             [
              0.3333333333333333,
              "#9c179e"
             ],
             [
              0.4444444444444444,
              "#bd3786"
             ],
             [
              0.5555555555555556,
              "#d8576b"
             ],
             [
              0.6666666666666666,
              "#ed7953"
             ],
             [
              0.7777777777777778,
              "#fb9f3a"
             ],
             [
              0.8888888888888888,
              "#fdca26"
             ],
             [
              1,
              "#f0f921"
             ]
            ],
            "type": "surface"
           }
          ],
          "table": [
           {
            "cells": {
             "fill": {
              "color": "#EBF0F8"
             },
             "line": {
              "color": "white"
             }
            },
            "header": {
             "fill": {
              "color": "#C8D4E3"
             },
             "line": {
              "color": "white"
             }
            },
            "type": "table"
           }
          ]
         },
         "layout": {
          "annotationdefaults": {
           "arrowcolor": "#2a3f5f",
           "arrowhead": 0,
           "arrowwidth": 1
          },
          "autotypenumbers": "strict",
          "coloraxis": {
           "colorbar": {
            "outlinewidth": 0,
            "ticks": ""
           }
          },
          "colorscale": {
           "diverging": [
            [
             0,
             "#8e0152"
            ],
            [
             0.1,
             "#c51b7d"
            ],
            [
             0.2,
             "#de77ae"
            ],
            [
             0.3,
             "#f1b6da"
            ],
            [
             0.4,
             "#fde0ef"
            ],
            [
             0.5,
             "#f7f7f7"
            ],
            [
             0.6,
             "#e6f5d0"
            ],
            [
             0.7,
             "#b8e186"
            ],
            [
             0.8,
             "#7fbc41"
            ],
            [
             0.9,
             "#4d9221"
            ],
            [
             1,
             "#276419"
            ]
           ],
           "sequential": [
            [
             0,
             "#0d0887"
            ],
            [
             0.1111111111111111,
             "#46039f"
            ],
            [
             0.2222222222222222,
             "#7201a8"
            ],
            [
             0.3333333333333333,
             "#9c179e"
            ],
            [
             0.4444444444444444,
             "#bd3786"
            ],
            [
             0.5555555555555556,
             "#d8576b"
            ],
            [
             0.6666666666666666,
             "#ed7953"
            ],
            [
             0.7777777777777778,
             "#fb9f3a"
            ],
            [
             0.8888888888888888,
             "#fdca26"
            ],
            [
             1,
             "#f0f921"
            ]
           ],
           "sequentialminus": [
            [
             0,
             "#0d0887"
            ],
            [
             0.1111111111111111,
             "#46039f"
            ],
            [
             0.2222222222222222,
             "#7201a8"
            ],
            [
             0.3333333333333333,
             "#9c179e"
            ],
            [
             0.4444444444444444,
             "#bd3786"
            ],
            [
             0.5555555555555556,
             "#d8576b"
            ],
            [
             0.6666666666666666,
             "#ed7953"
            ],
            [
             0.7777777777777778,
             "#fb9f3a"
            ],
            [
             0.8888888888888888,
             "#fdca26"
            ],
            [
             1,
             "#f0f921"
            ]
           ]
          },
          "colorway": [
           "#636efa",
           "#EF553B",
           "#00cc96",
           "#ab63fa",
           "#FFA15A",
           "#19d3f3",
           "#FF6692",
           "#B6E880",
           "#FF97FF",
           "#FECB52"
          ],
          "font": {
           "color": "#2a3f5f"
          },
          "geo": {
           "bgcolor": "white",
           "lakecolor": "white",
           "landcolor": "#E5ECF6",
           "showlakes": true,
           "showland": true,
           "subunitcolor": "white"
          },
          "hoverlabel": {
           "align": "left"
          },
          "hovermode": "closest",
          "mapbox": {
           "style": "light"
          },
          "paper_bgcolor": "white",
          "plot_bgcolor": "#E5ECF6",
          "polar": {
           "angularaxis": {
            "gridcolor": "white",
            "linecolor": "white",
            "ticks": ""
           },
           "bgcolor": "#E5ECF6",
           "radialaxis": {
            "gridcolor": "white",
            "linecolor": "white",
            "ticks": ""
           }
          },
          "scene": {
           "xaxis": {
            "backgroundcolor": "#E5ECF6",
            "gridcolor": "white",
            "gridwidth": 2,
            "linecolor": "white",
            "showbackground": true,
            "ticks": "",
            "zerolinecolor": "white"
           },
           "yaxis": {
            "backgroundcolor": "#E5ECF6",
            "gridcolor": "white",
            "gridwidth": 2,
            "linecolor": "white",
            "showbackground": true,
            "ticks": "",
            "zerolinecolor": "white"
           },
           "zaxis": {
            "backgroundcolor": "#E5ECF6",
            "gridcolor": "white",
            "gridwidth": 2,
            "linecolor": "white",
            "showbackground": true,
            "ticks": "",
            "zerolinecolor": "white"
           }
          },
          "shapedefaults": {
           "line": {
            "color": "#2a3f5f"
           }
          },
          "ternary": {
           "aaxis": {
            "gridcolor": "white",
            "linecolor": "white",
            "ticks": ""
           },
           "baxis": {
            "gridcolor": "white",
            "linecolor": "white",
            "ticks": ""
           },
           "bgcolor": "#E5ECF6",
           "caxis": {
            "gridcolor": "white",
            "linecolor": "white",
            "ticks": ""
           }
          },
          "title": {
           "x": 0.05
          },
          "xaxis": {
           "automargin": true,
           "gridcolor": "white",
           "linecolor": "white",
           "ticks": "",
           "title": {
            "standoff": 15
           },
           "zerolinecolor": "white",
           "zerolinewidth": 2
          },
          "yaxis": {
           "automargin": true,
           "gridcolor": "white",
           "linecolor": "white",
           "ticks": "",
           "title": {
            "standoff": 15
           },
           "zerolinecolor": "white",
           "zerolinewidth": 2
          }
         }
        },
        "title": {
         "text": "Product Usage: Active vs Inactive Customers"
        },
        "xaxis": {
         "anchor": "y",
         "domain": [
          0,
          0.31999999999999995
         ],
         "tickangle": -45,
         "title": {
          "text": "Product"
         }
        },
        "xaxis2": {
         "anchor": "y2",
         "domain": [
          0.33999999999999997,
          0.6599999999999999
         ],
         "matches": "x",
         "title": {
          "text": "Product"
         }
        },
        "xaxis3": {
         "anchor": "y3",
         "domain": [
          0.6799999999999999,
          0.9999999999999999
         ],
         "matches": "x",
         "title": {
          "text": "Product"
         }
        },
        "yaxis": {
         "anchor": "x",
         "domain": [
          0,
          1
         ],
         "title": {
          "text": "Ownership Rate (%)"
         }
        },
        "yaxis2": {
         "anchor": "x2",
         "domain": [
          0,
          1
         ],
         "matches": "y",
         "showticklabels": false
        },
        "yaxis3": {
         "anchor": "x3",
         "domain": [
          0,
          1
         ],
         "matches": "y",
         "showticklabels": false
        }
       }
      }
     },
     "metadata": {},
     "output_type": "display_data"
    }
   ],
   "source": [
    "import plotly.express as px\n",
    "\n",
    "\n",
    "df_train = df_train.dropna(subset = 'ind_actividad_cliente')\n",
    "df_train['ind_actividad_cliente'] = df_train['ind_actividad_cliente'].astype(int)\n",
    "df_product_segment_relation2 = df_train.groupby(['segmento','ind_actividad_cliente'])[ult1_columns].mean()\n",
    "\n",
    "\n",
    "df_melted2 = df_product_segment_relation2.reset_index().melt(\n",
    "    id_vars=['segmento','ind_actividad_cliente'],\n",
    "    var_name='product',\n",
    "    value_name='ownership_rate'\n",
    ")\n",
    "df_melted2['product'] = df_melted2['product'].map(product_labels)\n",
    "\n",
    "fig = px.bar(\n",
    "    df_melted2, \n",
    "    x='product', \n",
    "    y='ownership_rate', \n",
    "    color='ind_actividad_cliente',\n",
    "    barmode='group',\n",
    "    facet_col='segmento',\n",
    "    title='Product Usage: Active vs Inactive Customers',\n",
    "    labels={\n",
    "        'product': 'Product',\n",
    "        'count': 'Number of Customers',\n",
    "        'ind_actividad_cliente': 'Customer Status',\n",
    "        'ownership_rate':'Ownership Rate (%)'\n",
    "    },\n",
    "    color_discrete_map={0:'red',1:'blue'}\n",
    ")\n",
    "\n",
    "fig.update_layout(xaxis_tickangle=-45)\n",
    "fig.show()\n",
    "\n"
   ]
  },
  {
   "cell_type": "code",
   "execution_count": 15,
   "id": "4fe85e56",
   "metadata": {},
   "outputs": [
    {
     "data": {
      "text/html": [
       "<div>\n",
       "<style scoped>\n",
       "    .dataframe tbody tr th:only-of-type {\n",
       "        vertical-align: middle;\n",
       "    }\n",
       "\n",
       "    .dataframe tbody tr th {\n",
       "        vertical-align: top;\n",
       "    }\n",
       "\n",
       "    .dataframe thead th {\n",
       "        text-align: right;\n",
       "    }\n",
       "</style>\n",
       "<table border=\"1\" class=\"dataframe\">\n",
       "  <thead>\n",
       "    <tr style=\"text-align: right;\">\n",
       "      <th></th>\n",
       "      <th></th>\n",
       "      <th>ind_ahor_fin_ult1</th>\n",
       "      <th>ind_aval_fin_ult1</th>\n",
       "      <th>ind_cco_fin_ult1</th>\n",
       "      <th>ind_cder_fin_ult1</th>\n",
       "      <th>ind_cno_fin_ult1</th>\n",
       "      <th>ind_ctju_fin_ult1</th>\n",
       "      <th>ind_ctma_fin_ult1</th>\n",
       "      <th>ind_ctop_fin_ult1</th>\n",
       "      <th>ind_ctpp_fin_ult1</th>\n",
       "      <th>ind_deco_fin_ult1</th>\n",
       "      <th>...</th>\n",
       "      <th>ind_hip_fin_ult1</th>\n",
       "      <th>ind_plan_fin_ult1</th>\n",
       "      <th>ind_pres_fin_ult1</th>\n",
       "      <th>ind_reca_fin_ult1</th>\n",
       "      <th>ind_tjcr_fin_ult1</th>\n",
       "      <th>ind_valo_fin_ult1</th>\n",
       "      <th>ind_viv_fin_ult1</th>\n",
       "      <th>ind_nomina_ult1</th>\n",
       "      <th>ind_nom_pens_ult1</th>\n",
       "      <th>ind_recibo_ult1</th>\n",
       "    </tr>\n",
       "    <tr>\n",
       "      <th>segmento</th>\n",
       "      <th>ind_actividad_cliente</th>\n",
       "      <th></th>\n",
       "      <th></th>\n",
       "      <th></th>\n",
       "      <th></th>\n",
       "      <th></th>\n",
       "      <th></th>\n",
       "      <th></th>\n",
       "      <th></th>\n",
       "      <th></th>\n",
       "      <th></th>\n",
       "      <th></th>\n",
       "      <th></th>\n",
       "      <th></th>\n",
       "      <th></th>\n",
       "      <th></th>\n",
       "      <th></th>\n",
       "      <th></th>\n",
       "      <th></th>\n",
       "      <th></th>\n",
       "      <th></th>\n",
       "      <th></th>\n",
       "    </tr>\n",
       "  </thead>\n",
       "  <tbody>\n",
       "    <tr>\n",
       "      <th rowspan=\"2\" valign=\"top\">01 - TOP</th>\n",
       "      <th>0</th>\n",
       "      <td>0.000000</td>\n",
       "      <td>0.000000</td>\n",
       "      <td>0.241027</td>\n",
       "      <td>0.000000</td>\n",
       "      <td>0.003521</td>\n",
       "      <td>0.000000</td>\n",
       "      <td>0.043730</td>\n",
       "      <td>0.031804</td>\n",
       "      <td>0.012040</td>\n",
       "      <td>0.067583</td>\n",
       "      <td>...</td>\n",
       "      <td>0.000000</td>\n",
       "      <td>0.001363</td>\n",
       "      <td>0.000227</td>\n",
       "      <td>0.000568</td>\n",
       "      <td>0.000227</td>\n",
       "      <td>0.007497</td>\n",
       "      <td>0.000114</td>\n",
       "      <td>0.001249</td>\n",
       "      <td>0.001363</td>\n",
       "      <td>0.034303</td>\n",
       "    </tr>\n",
       "    <tr>\n",
       "      <th>1</th>\n",
       "      <td>0.000208</td>\n",
       "      <td>0.000231</td>\n",
       "      <td>0.615879</td>\n",
       "      <td>0.001883</td>\n",
       "      <td>0.314694</td>\n",
       "      <td>0.000228</td>\n",
       "      <td>0.026320</td>\n",
       "      <td>0.254716</td>\n",
       "      <td>0.154777</td>\n",
       "      <td>0.013413</td>\n",
       "      <td>...</td>\n",
       "      <td>0.021025</td>\n",
       "      <td>0.074105</td>\n",
       "      <td>0.002386</td>\n",
       "      <td>0.201535</td>\n",
       "      <td>0.208574</td>\n",
       "      <td>0.205186</td>\n",
       "      <td>0.011792</td>\n",
       "      <td>0.230234</td>\n",
       "      <td>0.262865</td>\n",
       "      <td>0.389185</td>\n",
       "    </tr>\n",
       "    <tr>\n",
       "      <th rowspan=\"2\" valign=\"top\">02 - PARTICULARES</th>\n",
       "      <th>0</th>\n",
       "      <td>0.000098</td>\n",
       "      <td>0.000000</td>\n",
       "      <td>0.385952</td>\n",
       "      <td>0.000130</td>\n",
       "      <td>0.002155</td>\n",
       "      <td>0.006044</td>\n",
       "      <td>0.007053</td>\n",
       "      <td>0.149247</td>\n",
       "      <td>0.027382</td>\n",
       "      <td>0.000457</td>\n",
       "      <td>...</td>\n",
       "      <td>0.000052</td>\n",
       "      <td>0.000179</td>\n",
       "      <td>0.001653</td>\n",
       "      <td>0.011202</td>\n",
       "      <td>0.000864</td>\n",
       "      <td>0.000882</td>\n",
       "      <td>0.003075</td>\n",
       "      <td>0.000449</td>\n",
       "      <td>0.000536</td>\n",
       "      <td>0.001667</td>\n",
       "    </tr>\n",
       "    <tr>\n",
       "      <th>1</th>\n",
       "      <td>0.000218</td>\n",
       "      <td>0.000045</td>\n",
       "      <td>0.711577</td>\n",
       "      <td>0.000910</td>\n",
       "      <td>0.180383</td>\n",
       "      <td>0.025325</td>\n",
       "      <td>0.019256</td>\n",
       "      <td>0.245770</td>\n",
       "      <td>0.093340</td>\n",
       "      <td>0.003056</td>\n",
       "      <td>...</td>\n",
       "      <td>0.016156</td>\n",
       "      <td>0.019599</td>\n",
       "      <td>0.006383</td>\n",
       "      <td>0.123076</td>\n",
       "      <td>0.110001</td>\n",
       "      <td>0.053380</td>\n",
       "      <td>0.008126</td>\n",
       "      <td>0.122625</td>\n",
       "      <td>0.133041</td>\n",
       "      <td>0.305666</td>\n",
       "    </tr>\n",
       "    <tr>\n",
       "      <th rowspan=\"2\" valign=\"top\">03 - UNIVERSITARIO</th>\n",
       "      <th>0</th>\n",
       "      <td>0.000000</td>\n",
       "      <td>0.000000</td>\n",
       "      <td>0.807463</td>\n",
       "      <td>0.000002</td>\n",
       "      <td>0.001676</td>\n",
       "      <td>0.000006</td>\n",
       "      <td>0.000134</td>\n",
       "      <td>0.000375</td>\n",
       "      <td>0.000066</td>\n",
       "      <td>0.000028</td>\n",
       "      <td>...</td>\n",
       "      <td>0.000000</td>\n",
       "      <td>0.000006</td>\n",
       "      <td>0.000000</td>\n",
       "      <td>0.001449</td>\n",
       "      <td>0.000033</td>\n",
       "      <td>0.000019</td>\n",
       "      <td>0.000011</td>\n",
       "      <td>0.000132</td>\n",
       "      <td>0.000135</td>\n",
       "      <td>0.001306</td>\n",
       "    </tr>\n",
       "    <tr>\n",
       "      <th>1</th>\n",
       "      <td>0.000000</td>\n",
       "      <td>0.000000</td>\n",
       "      <td>0.878745</td>\n",
       "      <td>0.000026</td>\n",
       "      <td>0.110841</td>\n",
       "      <td>0.000042</td>\n",
       "      <td>0.005229</td>\n",
       "      <td>0.018356</td>\n",
       "      <td>0.008259</td>\n",
       "      <td>0.000367</td>\n",
       "      <td>...</td>\n",
       "      <td>0.000714</td>\n",
       "      <td>0.001214</td>\n",
       "      <td>0.000241</td>\n",
       "      <td>0.023934</td>\n",
       "      <td>0.019584</td>\n",
       "      <td>0.006849</td>\n",
       "      <td>0.000285</td>\n",
       "      <td>0.071408</td>\n",
       "      <td>0.073002</td>\n",
       "      <td>0.166298</td>\n",
       "    </tr>\n",
       "  </tbody>\n",
       "</table>\n",
       "<p>6 rows × 24 columns</p>\n",
       "</div>"
      ],
      "text/plain": [
       "                                          ind_ahor_fin_ult1  \\\n",
       "segmento           ind_actividad_cliente                      \n",
       "01 - TOP           0                               0.000000   \n",
       "                   1                               0.000208   \n",
       "02 - PARTICULARES  0                               0.000098   \n",
       "                   1                               0.000218   \n",
       "03 - UNIVERSITARIO 0                               0.000000   \n",
       "                   1                               0.000000   \n",
       "\n",
       "                                          ind_aval_fin_ult1  ind_cco_fin_ult1  \\\n",
       "segmento           ind_actividad_cliente                                        \n",
       "01 - TOP           0                               0.000000          0.241027   \n",
       "                   1                               0.000231          0.615879   \n",
       "02 - PARTICULARES  0                               0.000000          0.385952   \n",
       "                   1                               0.000045          0.711577   \n",
       "03 - UNIVERSITARIO 0                               0.000000          0.807463   \n",
       "                   1                               0.000000          0.878745   \n",
       "\n",
       "                                          ind_cder_fin_ult1  ind_cno_fin_ult1  \\\n",
       "segmento           ind_actividad_cliente                                        \n",
       "01 - TOP           0                               0.000000          0.003521   \n",
       "                   1                               0.001883          0.314694   \n",
       "02 - PARTICULARES  0                               0.000130          0.002155   \n",
       "                   1                               0.000910          0.180383   \n",
       "03 - UNIVERSITARIO 0                               0.000002          0.001676   \n",
       "                   1                               0.000026          0.110841   \n",
       "\n",
       "                                          ind_ctju_fin_ult1  \\\n",
       "segmento           ind_actividad_cliente                      \n",
       "01 - TOP           0                               0.000000   \n",
       "                   1                               0.000228   \n",
       "02 - PARTICULARES  0                               0.006044   \n",
       "                   1                               0.025325   \n",
       "03 - UNIVERSITARIO 0                               0.000006   \n",
       "                   1                               0.000042   \n",
       "\n",
       "                                          ind_ctma_fin_ult1  \\\n",
       "segmento           ind_actividad_cliente                      \n",
       "01 - TOP           0                               0.043730   \n",
       "                   1                               0.026320   \n",
       "02 - PARTICULARES  0                               0.007053   \n",
       "                   1                               0.019256   \n",
       "03 - UNIVERSITARIO 0                               0.000134   \n",
       "                   1                               0.005229   \n",
       "\n",
       "                                          ind_ctop_fin_ult1  \\\n",
       "segmento           ind_actividad_cliente                      \n",
       "01 - TOP           0                               0.031804   \n",
       "                   1                               0.254716   \n",
       "02 - PARTICULARES  0                               0.149247   \n",
       "                   1                               0.245770   \n",
       "03 - UNIVERSITARIO 0                               0.000375   \n",
       "                   1                               0.018356   \n",
       "\n",
       "                                          ind_ctpp_fin_ult1  \\\n",
       "segmento           ind_actividad_cliente                      \n",
       "01 - TOP           0                               0.012040   \n",
       "                   1                               0.154777   \n",
       "02 - PARTICULARES  0                               0.027382   \n",
       "                   1                               0.093340   \n",
       "03 - UNIVERSITARIO 0                               0.000066   \n",
       "                   1                               0.008259   \n",
       "\n",
       "                                          ind_deco_fin_ult1  ...  \\\n",
       "segmento           ind_actividad_cliente                     ...   \n",
       "01 - TOP           0                               0.067583  ...   \n",
       "                   1                               0.013413  ...   \n",
       "02 - PARTICULARES  0                               0.000457  ...   \n",
       "                   1                               0.003056  ...   \n",
       "03 - UNIVERSITARIO 0                               0.000028  ...   \n",
       "                   1                               0.000367  ...   \n",
       "\n",
       "                                          ind_hip_fin_ult1  ind_plan_fin_ult1  \\\n",
       "segmento           ind_actividad_cliente                                        \n",
       "01 - TOP           0                              0.000000           0.001363   \n",
       "                   1                              0.021025           0.074105   \n",
       "02 - PARTICULARES  0                              0.000052           0.000179   \n",
       "                   1                              0.016156           0.019599   \n",
       "03 - UNIVERSITARIO 0                              0.000000           0.000006   \n",
       "                   1                              0.000714           0.001214   \n",
       "\n",
       "                                          ind_pres_fin_ult1  \\\n",
       "segmento           ind_actividad_cliente                      \n",
       "01 - TOP           0                               0.000227   \n",
       "                   1                               0.002386   \n",
       "02 - PARTICULARES  0                               0.001653   \n",
       "                   1                               0.006383   \n",
       "03 - UNIVERSITARIO 0                               0.000000   \n",
       "                   1                               0.000241   \n",
       "\n",
       "                                          ind_reca_fin_ult1  \\\n",
       "segmento           ind_actividad_cliente                      \n",
       "01 - TOP           0                               0.000568   \n",
       "                   1                               0.201535   \n",
       "02 - PARTICULARES  0                               0.011202   \n",
       "                   1                               0.123076   \n",
       "03 - UNIVERSITARIO 0                               0.001449   \n",
       "                   1                               0.023934   \n",
       "\n",
       "                                          ind_tjcr_fin_ult1  \\\n",
       "segmento           ind_actividad_cliente                      \n",
       "01 - TOP           0                               0.000227   \n",
       "                   1                               0.208574   \n",
       "02 - PARTICULARES  0                               0.000864   \n",
       "                   1                               0.110001   \n",
       "03 - UNIVERSITARIO 0                               0.000033   \n",
       "                   1                               0.019584   \n",
       "\n",
       "                                          ind_valo_fin_ult1  ind_viv_fin_ult1  \\\n",
       "segmento           ind_actividad_cliente                                        \n",
       "01 - TOP           0                               0.007497          0.000114   \n",
       "                   1                               0.205186          0.011792   \n",
       "02 - PARTICULARES  0                               0.000882          0.003075   \n",
       "                   1                               0.053380          0.008126   \n",
       "03 - UNIVERSITARIO 0                               0.000019          0.000011   \n",
       "                   1                               0.006849          0.000285   \n",
       "\n",
       "                                          ind_nomina_ult1  ind_nom_pens_ult1  \\\n",
       "segmento           ind_actividad_cliente                                       \n",
       "01 - TOP           0                             0.001249           0.001363   \n",
       "                   1                             0.230234           0.262865   \n",
       "02 - PARTICULARES  0                             0.000449           0.000536   \n",
       "                   1                             0.122625           0.133041   \n",
       "03 - UNIVERSITARIO 0                             0.000132           0.000135   \n",
       "                   1                             0.071408           0.073002   \n",
       "\n",
       "                                          ind_recibo_ult1  \n",
       "segmento           ind_actividad_cliente                   \n",
       "01 - TOP           0                             0.034303  \n",
       "                   1                             0.389185  \n",
       "02 - PARTICULARES  0                             0.001667  \n",
       "                   1                             0.305666  \n",
       "03 - UNIVERSITARIO 0                             0.001306  \n",
       "                   1                             0.166298  \n",
       "\n",
       "[6 rows x 24 columns]"
      ]
     },
     "execution_count": 15,
     "metadata": {},
     "output_type": "execute_result"
    }
   ],
   "source": [
    "df_product_segment_relation2"
   ]
  },
  {
   "cell_type": "code",
   "execution_count": 24,
   "id": "615b90fb",
   "metadata": {},
   "outputs": [
    {
     "name": "stdout",
     "output_type": "stream",
     "text": [
      "<class 'pandas.core.frame.DataFrame'>\n",
      "RangeIndex: 144 entries, 0 to 143\n",
      "Data columns (total 4 columns):\n",
      " #   Column                 Non-Null Count  Dtype  \n",
      "---  ------                 --------------  -----  \n",
      " 0   segmento               144 non-null    object \n",
      " 1   ind_actividad_cliente  144 non-null    float64\n",
      " 2   product                144 non-null    object \n",
      " 3   ownership_rate         144 non-null    float64\n",
      "dtypes: float64(2), object(2)\n",
      "memory usage: 4.6+ KB\n"
     ]
    }
   ],
   "source": [
    "df_melted2.info()"
   ]
  },
  {
   "cell_type": "markdown",
   "id": "785ba9e9",
   "metadata": {},
   "source": [
    "Time-Based Dynamics\n",
    "Use fecha_dato and fecha_alta to derive insights over time.\n",
    "\n",
    "Customer acquisition trends\n",
    "\n",
    "Monthly trend of customer joining (fecha_alta), grouped by segmento\n",
    "\n",
    "Monthly distribution of dataset (fecha_dato)\n",
    "\n",
    "Countplot of number of records per month (check for imbalances)\n",
    "\n",
    "Trend of popular products over time\n",
    "\n",
    "Lineplots showing how key products (e.g., ind_nomina_ult1) trend monthly\n",
    "\n",
    "4️⃣ Customer Type & Relationship Variables\n",
    "To understand behavioral patterns based on their bank relationship.\n",
    "\n",
    "Customer relation type (tiprel_1mes)\n",
    "\n",
    "Countplot by type (Active, Inactive, Former, Potential)\n",
    "\n",
    "Product usage comparison by relation type\n",
    "\n",
    "Residence & Foreigner index (indresi, indext)\n",
    "\n",
    "Compare product patterns for foreign vs. local residents\n",
    "\n",
    "Channel of joining (canal_entrada)\n",
    "\n",
    "Most common channels and their associated product adoption rates\n",
    "\n",
    "5️⃣ Geo-Demographic Analysis\n",
    "Use cod_prov and nomprov for region-wise analysis.\n",
    "\n",
    "Customer count by province\n",
    "\n",
    "Barplot of top provinces by customer count\n",
    "\n",
    "Product preference by region\n",
    "\n",
    "Compare certain products across regions (e.g., mortgages in urban vs rural provinces)\n",
    "\n",
    "6️⃣ Deceased and Missing/Invalid Value Analysis\n",
    "Distribution of indfall (deceased flag) – remove or analyze how these affect data\n",
    "\n",
    "Proportion of missing/invalid data in renta, age, etc.\n",
    "\n",
    "Correlation heatmap of numeric variables to identify collinearity\n",
    "\n"
   ]
  },
  {
   "cell_type": "code",
   "execution_count": null,
   "id": "ff866f95",
   "metadata": {},
   "outputs": [],
   "source": []
  }
 ],
 "metadata": {
  "kernelspec": {
   "display_name": "base",
   "language": "python",
   "name": "python3"
  },
  "language_info": {
   "codemirror_mode": {
    "name": "ipython",
    "version": 3
   },
   "file_extension": ".py",
   "mimetype": "text/x-python",
   "name": "python",
   "nbconvert_exporter": "python",
   "pygments_lexer": "ipython3",
   "version": "3.8.13"
  }
 },
 "nbformat": 4,
 "nbformat_minor": 5
}
